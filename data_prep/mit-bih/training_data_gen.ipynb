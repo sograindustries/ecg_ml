{
 "cells": [
  {
   "cell_type": "code",
   "execution_count": 1,
   "metadata": {},
   "outputs": [],
   "source": [
    "import wfdb\n",
    "import matplotlib.pyplot as plt\n",
    "import numpy as np\n",
    "import scipy.signal as signal\n",
    "import os"
   ]
  },
  {
   "cell_type": "code",
   "execution_count": 2,
   "metadata": {},
   "outputs": [],
   "source": [
    "RECORDS_TO_USE = ['100', '101', '103', '105', '106', '108', '109', '111', '112', '113', '114', '115', '116', '117', '118', '119', '121', '122', '123', '124', '200', '201', '202', '203', '205', '207', '208', '209', '210', '212', '213', '214', '215', '219', '220', '221', '222', '223', '228', '230', '231', '232', '233', '234']"
   ]
  },
  {
   "cell_type": "code",
   "execution_count": 3,
   "metadata": {},
   "outputs": [],
   "source": [
    "# Selects which records are used for training and which are used for evaluation\n",
    "NUM_RECORDS = len(RECORDS_TO_USE)\n",
    "NUM_EVAL_RECORDS = int(np.ceil(0.1*NUM_RECORDS))\n",
    "EVAL_RECORD_INDICES = np.random.choice(len(RECORDS_TO_USE), (NUM_EVAL_RECORDS), replace = False)\n",
    "EVAL_RECORDS = []\n",
    "TRAIN_RECORDS = []\n",
    "for index in range(NUM_RECORDS):\n",
    "    if index in EVAL_RECORD_INDICES:\n",
    "        EVAL_RECORDS += [RECORDS_TO_USE[index]]\n",
    "    else:\n",
    "        TRAIN_RECORDS += [RECORDS_TO_USE[index]]"
   ]
  },
  {
   "cell_type": "code",
   "execution_count": 4,
   "metadata": {},
   "outputs": [],
   "source": [
    "SAMPLE_LENGTH = 7424"
   ]
  },
  {
   "cell_type": "code",
   "execution_count": 5,
   "metadata": {},
   "outputs": [],
   "source": [
    "path = os.path.join('./mit-bih-arrhythmia-database-1.0.0/', RECORDS_TO_USE[0])"
   ]
  },
  {
   "cell_type": "code",
   "execution_count": 6,
   "metadata": {},
   "outputs": [],
   "source": [
    "def FindBeats(start, end, beats, samples):\n",
    "    a = samples >= start\n",
    "    b = samples <= end\n",
    "    mask = np.where(a & b)\n",
    "    return beats[mask]\n",
    "\n",
    "def CheckBeats(beats):\n",
    "    for b in beats:\n",
    "        if b != 'N':\n",
    "            #print(b)\n",
    "            return False\n",
    "        \n",
    "    return True"
   ]
  },
  {
   "cell_type": "code",
   "execution_count": 7,
   "metadata": {},
   "outputs": [],
   "source": [
    "def PrepRecord(path, new_fs):\n",
    "    record = wfdb.rdrecord(path)\n",
    "    annotation = wfdb.rdann(path, 'atr')\n",
    "    data = record.p_signal[:,0]\n",
    "    len_data = data.shape[0]\n",
    "    new_len = int(np.round(len_data * new_fs / record.fs))\n",
    "    re_data = signal.resample(data, new_len)\n",
    "    beats = annotation.symbol\n",
    "    samples = [s/record.fs*new_fs for s in annotation.sample]\n",
    "    return [re_data, np.array(beats), np.array(samples)]"
   ]
  },
  {
   "cell_type": "code",
   "execution_count": 28,
   "metadata": {},
   "outputs": [],
   "source": [
    "def GenerateTrainingData(path):\n",
    "    data, beats, samples = PrepRecord(path, 250)\n",
    "    \n",
    "    # Finds Valid indices\n",
    "    # Ignores the first 10 seconds\n",
    "    index_start = 2500\n",
    "    index_end = data.shape[0] - SAMPLE_LENGTH\n",
    "    # Start is varied by 2 seconds for each record\n",
    "    index_range = 500\n",
    "    # Creates empty matrices\n",
    "    NUM_SAMPLES = 500\n",
    "    training_data = np.zeros((NUM_SAMPLES, SAMPLE_LENGTH, 1))\n",
    "    training_label = np.zeros((NUM_SAMPLES, 1))\n",
    "\n",
    "    ii = 0\n",
    "    while(True):\n",
    "    \n",
    "        start_index = int(np.random.rand()*index_range + index_start)\n",
    "        end_index = int(start_index + SAMPLE_LENGTH)\n",
    "        if (end_index > data.shape[0]):\n",
    "            break\n",
    "            \n",
    "        b = FindBeats(start_index, end_index, beats, samples)\n",
    "        \n",
    "        index_start = end_index\n",
    "        \n",
    "        # Checks for annotations we don't want\n",
    "        if '~' in b:\n",
    "            continue\n",
    "        if 'U' in b:\n",
    "            continue\n",
    "        if '?' in b:\n",
    "            continue\n",
    "        if '|' in b:\n",
    "            continue\n",
    "        if 'Q' in b:\n",
    "            continue\n",
    "        if '+' in b:\n",
    "            continue\n",
    "        \n",
    "        \n",
    "        if CheckBeats(b) is True:\n",
    "            training_label[ii] = 0\n",
    "        else:\n",
    "            training_label[ii] = 1\n",
    "        training_data[ii, :, 0] = data[start_index:end_index] \n",
    "#        if ii >= 49:\n",
    "#            break\n",
    "        ii += 1\n",
    "    print(ii)\n",
    "    return training_data[0:ii, :, :], training_label[0:ii, :]"
   ]
  },
  {
   "cell_type": "code",
   "execution_count": 29,
   "metadata": {},
   "outputs": [
    {
     "name": "stdout",
     "output_type": "stream",
     "text": [
      "58\n",
      "53\n",
      "19\n",
      "25\n",
      "30\n",
      "56\n",
      "54\n",
      "53\n",
      "58\n",
      "53\n",
      "54\n",
      "57\n",
      "52\n",
      "17\n",
      "53\n",
      "57\n",
      "58\n",
      "50\n",
      "51\n",
      "24\n",
      "54\n",
      "44\n",
      "25\n",
      "32\n",
      "45\n",
      "51\n",
      "39\n",
      "43\n",
      "42\n",
      "53\n",
      "42\n",
      "22\n",
      "38\n",
      "27\n",
      "12\n",
      "48\n",
      "45\n",
      "32\n",
      "52\n"
     ]
    }
   ],
   "source": [
    "train_data = []\n",
    "train_labels = []\n",
    "for rec in TRAIN_RECORDS:\n",
    "    path = os.path.join('./mit-bih-arrhythmia-database-1.0.0/', rec)\n",
    "    d, l = GenerateTrainingData(path)\n",
    "    \n",
    "    train_data += [d]\n",
    "    train_labels += [l]\n",
    "train_data = np.concatenate(train_data, 0)\n",
    "train_labels = np.concatenate(train_labels, 0)"
   ]
  },
  {
   "cell_type": "code",
   "execution_count": 30,
   "metadata": {},
   "outputs": [
    {
     "name": "stdout",
     "output_type": "stream",
     "text": [
      "54\n",
      "52\n",
      "9\n",
      "36\n",
      "42\n"
     ]
    }
   ],
   "source": [
    "eval_data = []\n",
    "eval_labels = []\n",
    "for rec in EVAL_RECORDS:\n",
    "    path = os.path.join('./mit-bih-arrhythmia-database-1.0.0/', rec)\n",
    "    d, l = GenerateTrainingData(path)\n",
    "    \n",
    "    eval_data += [d]\n",
    "    eval_labels += [l]\n",
    "eval_data = np.concatenate(eval_data, 0)\n",
    "eval_labels = np.concatenate(eval_labels, 0)"
   ]
  },
  {
   "cell_type": "code",
   "execution_count": 34,
   "metadata": {},
   "outputs": [],
   "source": [
    "np.save('./data/train_data', train_data)\n",
    "np.save('./data/train_labels', train_labels)\n",
    "np.save('./data/eval_data', eval_data)\n",
    "np.save('./data/eval_labels',eval_labels)"
   ]
  },
  {
   "cell_type": "code",
   "execution_count": 35,
   "metadata": {},
   "outputs": [
    {
     "name": "stdout",
     "output_type": "stream",
     "text": [
      "(1678, 7424, 1)\n",
      "(1678, 1)\n",
      "930.0\n",
      "(193, 7424, 1)\n",
      "(193, 1)\n",
      "89.0\n"
     ]
    }
   ],
   "source": [
    "print(train_data.shape)\n",
    "print(train_labels.shape)\n",
    "print(np.sum(train_labels))\n",
    "print(eval_data.shape)\n",
    "print(eval_labels.shape)\n",
    "print(np.sum(eval_labels))"
   ]
  }
 ],
 "metadata": {
  "kernelspec": {
   "display_name": "argos_tf",
   "language": "python",
   "name": "argos_tf"
  },
  "language_info": {
   "codemirror_mode": {
    "name": "ipython",
    "version": 3
   },
   "file_extension": ".py",
   "mimetype": "text/x-python",
   "name": "python",
   "nbconvert_exporter": "python",
   "pygments_lexer": "ipython3",
   "version": "3.7.5"
  }
 },
 "nbformat": 4,
 "nbformat_minor": 2
}
